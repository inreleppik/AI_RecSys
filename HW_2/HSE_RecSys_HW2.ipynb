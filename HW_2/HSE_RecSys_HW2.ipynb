{
 "cells": [
  {
   "cell_type": "markdown",
   "id": "93831896-683d-4946-8cae-7aff56608a65",
   "metadata": {},
   "source": [
    "## ДЗ №2. Матричные факторизации"
   ]
  },
  {
   "cell_type": "markdown",
   "id": "03b424ec-3791-4113-a672-25ef7cfa704d",
   "metadata": {},
   "source": [
    "#### В этой домашке вам предстоит реализовать некоторые базовые модели матричной факторизации\n",
    "\n",
    "#### Дата выдачи: 17.02.25\n",
    "\n",
    "#### Мягкий дедлайн: 02.03.25 23:59 MSK\n",
    "\n",
    "#### Жесткий дедлайн: 09.03.25 23:59 MSK"
   ]
  },
  {
   "cell_type": "markdown",
   "id": "d8f4b315-75b8-4225-953c-5510c584ff2b",
   "metadata": {},
   "source": [
    "В этом задании мы будем работать с классическим для рекоендательных систем датасетом [MovieLens 1M](https://grouplens.org/datasets/movielens/1m/). Датасет содержит рейтинги оценки для 4000 фильмов от 6000 пользователей. Более подробное описание можете найти на странице с датасетом и в README файле"
   ]
  },
  {
   "cell_type": "code",
   "execution_count": null,
   "id": "f5a85f84-4854-4249-963d-143d08bb7e36",
   "metadata": {},
   "outputs": [],
   "source": [
    "!wget https://files.grouplens.org/datasets/movielens/ml-1m.zip\n",
    "!unzip ml-1m.zip\n",
    "!cat ml-1m/README"
   ]
  },
  {
   "cell_type": "code",
   "execution_count": 3,
   "id": "669137ca-f0f9-48d4-ae04-e42a4b0f8d14",
   "metadata": {},
   "outputs": [],
   "source": [
    "import pandas as pd\n",
    "import numpy as np\n",
    "from typing import Union\n",
    "from time import time\n",
    "import matplotlib.pyplot as plt\n",
    "import seaborn as sns\n",
    "import optuna\n",
    "\n",
    "from warnings import filterwarnings\n",
    "\n",
    "filterwarnings('ignore')"
   ]
  },
  {
   "cell_type": "code",
   "execution_count": 5,
   "id": "ed65b0ae-ce2d-437a-9739-e7981011089f",
   "metadata": {},
   "outputs": [
    {
     "data": {
      "text/html": [
       "<div>\n",
       "<style scoped>\n",
       "    .dataframe tbody tr th:only-of-type {\n",
       "        vertical-align: middle;\n",
       "    }\n",
       "\n",
       "    .dataframe tbody tr th {\n",
       "        vertical-align: top;\n",
       "    }\n",
       "\n",
       "    .dataframe thead th {\n",
       "        text-align: right;\n",
       "    }\n",
       "</style>\n",
       "<table border=\"1\" class=\"dataframe\">\n",
       "  <thead>\n",
       "    <tr style=\"text-align: right;\">\n",
       "      <th></th>\n",
       "      <th>user_id</th>\n",
       "      <th>item_id</th>\n",
       "      <th>rating</th>\n",
       "      <th>datetime</th>\n",
       "    </tr>\n",
       "  </thead>\n",
       "  <tbody>\n",
       "    <tr>\n",
       "      <th>0</th>\n",
       "      <td>1</td>\n",
       "      <td>1193</td>\n",
       "      <td>5</td>\n",
       "      <td>2000-12-31 22:12:40</td>\n",
       "    </tr>\n",
       "    <tr>\n",
       "      <th>1</th>\n",
       "      <td>1</td>\n",
       "      <td>661</td>\n",
       "      <td>3</td>\n",
       "      <td>2000-12-31 22:35:09</td>\n",
       "    </tr>\n",
       "    <tr>\n",
       "      <th>2</th>\n",
       "      <td>1</td>\n",
       "      <td>914</td>\n",
       "      <td>3</td>\n",
       "      <td>2000-12-31 22:32:48</td>\n",
       "    </tr>\n",
       "    <tr>\n",
       "      <th>3</th>\n",
       "      <td>1</td>\n",
       "      <td>3408</td>\n",
       "      <td>4</td>\n",
       "      <td>2000-12-31 22:04:35</td>\n",
       "    </tr>\n",
       "    <tr>\n",
       "      <th>4</th>\n",
       "      <td>1</td>\n",
       "      <td>2355</td>\n",
       "      <td>5</td>\n",
       "      <td>2001-01-06 23:38:11</td>\n",
       "    </tr>\n",
       "  </tbody>\n",
       "</table>\n",
       "</div>"
      ],
      "text/plain": [
       "   user_id  item_id  rating            datetime\n",
       "0        1     1193       5 2000-12-31 22:12:40\n",
       "1        1      661       3 2000-12-31 22:35:09\n",
       "2        1      914       3 2000-12-31 22:32:48\n",
       "3        1     3408       4 2000-12-31 22:04:35\n",
       "4        1     2355       5 2001-01-06 23:38:11"
      ]
     },
     "execution_count": 5,
     "metadata": {},
     "output_type": "execute_result"
    }
   ],
   "source": [
    "df = pd.read_csv(\"ml-1m/ratings.dat\", sep='::', names=['user_id', 'item_id', 'rating', 'timestamp'], engine='python')\n",
    "df['datetime'] = pd.to_datetime(df['timestamp'], unit='s')\n",
    "df.drop('timestamp', axis=1, inplace=True)\n",
    "df.head()"
   ]
  },
  {
   "cell_type": "code",
   "execution_count": 6,
   "id": "640a8b17-77d1-43b3-ab68-adf4e612107c",
   "metadata": {},
   "outputs": [],
   "source": [
    "movies = pd.read_csv(\"ml-1m/movies.dat\", sep=\"::\", engine=\"python\",encoding=\"ISO-8859-1\", names=[\"movie_id\", \"title\", \"genres\"])"
   ]
  },
  {
   "cell_type": "code",
   "execution_count": 7,
   "id": "5f4f070c-c6ce-4785-9e55-4e350dfe2bc7",
   "metadata": {},
   "outputs": [
    {
     "data": {
      "text/html": [
       "<div>\n",
       "<style scoped>\n",
       "    .dataframe tbody tr th:only-of-type {\n",
       "        vertical-align: middle;\n",
       "    }\n",
       "\n",
       "    .dataframe tbody tr th {\n",
       "        vertical-align: top;\n",
       "    }\n",
       "\n",
       "    .dataframe thead th {\n",
       "        text-align: right;\n",
       "    }\n",
       "</style>\n",
       "<table border=\"1\" class=\"dataframe\">\n",
       "  <thead>\n",
       "    <tr style=\"text-align: right;\">\n",
       "      <th></th>\n",
       "      <th>movie_id</th>\n",
       "      <th>title</th>\n",
       "      <th>genres</th>\n",
       "    </tr>\n",
       "  </thead>\n",
       "  <tbody>\n",
       "    <tr>\n",
       "      <th>0</th>\n",
       "      <td>1</td>\n",
       "      <td>Toy Story (1995)</td>\n",
       "      <td>Animation|Children's|Comedy</td>\n",
       "    </tr>\n",
       "    <tr>\n",
       "      <th>1</th>\n",
       "      <td>2</td>\n",
       "      <td>Jumanji (1995)</td>\n",
       "      <td>Adventure|Children's|Fantasy</td>\n",
       "    </tr>\n",
       "    <tr>\n",
       "      <th>2</th>\n",
       "      <td>3</td>\n",
       "      <td>Grumpier Old Men (1995)</td>\n",
       "      <td>Comedy|Romance</td>\n",
       "    </tr>\n",
       "    <tr>\n",
       "      <th>3</th>\n",
       "      <td>4</td>\n",
       "      <td>Waiting to Exhale (1995)</td>\n",
       "      <td>Comedy|Drama</td>\n",
       "    </tr>\n",
       "    <tr>\n",
       "      <th>4</th>\n",
       "      <td>5</td>\n",
       "      <td>Father of the Bride Part II (1995)</td>\n",
       "      <td>Comedy</td>\n",
       "    </tr>\n",
       "    <tr>\n",
       "      <th>...</th>\n",
       "      <td>...</td>\n",
       "      <td>...</td>\n",
       "      <td>...</td>\n",
       "    </tr>\n",
       "    <tr>\n",
       "      <th>3878</th>\n",
       "      <td>3948</td>\n",
       "      <td>Meet the Parents (2000)</td>\n",
       "      <td>Comedy</td>\n",
       "    </tr>\n",
       "    <tr>\n",
       "      <th>3879</th>\n",
       "      <td>3949</td>\n",
       "      <td>Requiem for a Dream (2000)</td>\n",
       "      <td>Drama</td>\n",
       "    </tr>\n",
       "    <tr>\n",
       "      <th>3880</th>\n",
       "      <td>3950</td>\n",
       "      <td>Tigerland (2000)</td>\n",
       "      <td>Drama</td>\n",
       "    </tr>\n",
       "    <tr>\n",
       "      <th>3881</th>\n",
       "      <td>3951</td>\n",
       "      <td>Two Family House (2000)</td>\n",
       "      <td>Drama</td>\n",
       "    </tr>\n",
       "    <tr>\n",
       "      <th>3882</th>\n",
       "      <td>3952</td>\n",
       "      <td>Contender, The (2000)</td>\n",
       "      <td>Drama|Thriller</td>\n",
       "    </tr>\n",
       "  </tbody>\n",
       "</table>\n",
       "<p>3883 rows × 3 columns</p>\n",
       "</div>"
      ],
      "text/plain": [
       "      movie_id                               title  \\\n",
       "0            1                    Toy Story (1995)   \n",
       "1            2                      Jumanji (1995)   \n",
       "2            3             Grumpier Old Men (1995)   \n",
       "3            4            Waiting to Exhale (1995)   \n",
       "4            5  Father of the Bride Part II (1995)   \n",
       "...        ...                                 ...   \n",
       "3878      3948             Meet the Parents (2000)   \n",
       "3879      3949          Requiem for a Dream (2000)   \n",
       "3880      3950                    Tigerland (2000)   \n",
       "3881      3951             Two Family House (2000)   \n",
       "3882      3952               Contender, The (2000)   \n",
       "\n",
       "                            genres  \n",
       "0      Animation|Children's|Comedy  \n",
       "1     Adventure|Children's|Fantasy  \n",
       "2                   Comedy|Romance  \n",
       "3                     Comedy|Drama  \n",
       "4                           Comedy  \n",
       "...                            ...  \n",
       "3878                        Comedy  \n",
       "3879                         Drama  \n",
       "3880                         Drama  \n",
       "3881                         Drama  \n",
       "3882                Drama|Thriller  \n",
       "\n",
       "[3883 rows x 3 columns]"
      ]
     },
     "execution_count": 7,
     "metadata": {},
     "output_type": "execute_result"
    }
   ],
   "source": [
    "movies"
   ]
  },
  {
   "cell_type": "code",
   "execution_count": 8,
   "id": "4988d476-542e-4a32-9c45-7a16bc2a5db5",
   "metadata": {},
   "outputs": [],
   "source": [
    "value_counts = df['item_id'].value_counts()\n",
    "filtered_values = value_counts[value_counts > 20].index\n",
    "df = df[df['item_id'].isin(filtered_values)].copy()"
   ]
  },
  {
   "cell_type": "code",
   "execution_count": 9,
   "id": "1e05bd3b-ab2f-4c02-9a97-a4153e9550bc",
   "metadata": {},
   "outputs": [
    {
     "data": {
      "text/plain": [
       "((787420, 4), (207432, 4))"
      ]
     },
     "execution_count": 9,
     "metadata": {},
     "output_type": "execute_result"
    }
   ],
   "source": [
    "train_end = '2000-12-01'\n",
    "df_train = df[df['datetime'] < train_end].copy()\n",
    "df_test = df[df['datetime'] >= train_end].copy()\n",
    "df_train.shape, df_test.shape"
   ]
  },
  {
   "cell_type": "code",
   "execution_count": 10,
   "id": "414b8ed7-20d6-4778-9d60-f9c8ccbfa7e3",
   "metadata": {},
   "outputs": [
    {
     "data": {
      "text/plain": [
       "(106471, 4)"
      ]
     },
     "execution_count": 10,
     "metadata": {},
     "output_type": "execute_result"
    }
   ],
   "source": [
    "train_users = df_train['user_id'].unique()\n",
    "train_items = df_train['item_id'].unique()\n",
    "\n",
    "df_test = df_test[df_test['user_id'].isin(train_users)]\n",
    "df_test = df_test[df_test['item_id'].isin(train_items)]\n",
    "df_test.shape"
   ]
  },
  {
   "cell_type": "code",
   "execution_count": 11,
   "id": "8cf85d77-f853-4902-a0fe-6456b8397c03",
   "metadata": {},
   "outputs": [],
   "source": [
    "movies = movies[movies.movie_id.isin(df_train.item_id.unique())]"
   ]
  },
  {
   "cell_type": "code",
   "execution_count": 19,
   "id": "19f53d61-990c-4626-a470-7eefd06d2ec7",
   "metadata": {},
   "outputs": [],
   "source": [
    "from sklearn.preprocessing import LabelEncoder\n",
    "\n",
    "user_le = LabelEncoder()\n",
    "item_le = LabelEncoder()\n",
    "\n",
    "df_train['user_id'] = user_le.fit_transform(df_train['user_id'])\n",
    "df_train['item_id'] = item_le.fit_transform(df_train['item_id'])\n",
    "\n",
    "df_test['user_id'] = user_le.transform(df_test['user_id'])\n",
    "df_test['item_id'] = item_le.transform(df_test['item_id'])\n",
    "movies['movie_id'] = item_le.transform(movies['movie_id'])"
   ]
  },
  {
   "cell_type": "code",
   "execution_count": 21,
   "id": "1e637e04-50be-4a6d-ae95-a8a2f5bb0ec7",
   "metadata": {},
   "outputs": [],
   "source": [
    "movies.set_index(\"movie_id\", inplace=True)"
   ]
  },
  {
   "cell_type": "code",
   "execution_count": 23,
   "id": "f4ef3e2f-792d-4511-b4d0-74495d9cb30b",
   "metadata": {},
   "outputs": [
    {
     "data": {
      "text/plain": [
       "(3010, 3009)"
      ]
     },
     "execution_count": 23,
     "metadata": {},
     "output_type": "execute_result"
    }
   ],
   "source": [
    "df_train['user_id'].nunique(), df_train['user_id'].max()\n",
    "df_train['item_id'].nunique(), df_train['item_id'].max()"
   ]
  },
  {
   "cell_type": "code",
   "execution_count": 25,
   "id": "03561515-8d76-4ca1-b402-ec2c9a2a5adb",
   "metadata": {},
   "outputs": [
    {
     "data": {
      "text/plain": [
       "5365"
      ]
     },
     "execution_count": 25,
     "metadata": {},
     "output_type": "execute_result"
    }
   ],
   "source": [
    "df_train['user_id'].nunique()"
   ]
  },
  {
   "cell_type": "markdown",
   "id": "3d356df8-9157-4752-b30d-dc80aba5e53c",
   "metadata": {},
   "source": [
    "### Задание 1. \n",
    "**Напишем функцию, которая превратит датафрейм в матрицу интеракций. В функции df_to_matrix реализуйте функцию, которая принимает датафрейм и возвращает np.array матрицу интеракций. В функции df_to_coo реализуйте функцию, которая принимает датафрейм и возвращает разреженную матрицу интеракций в coo_array формате**"
   ]
  },
  {
   "cell_type": "code",
   "execution_count": 32,
   "id": "d38a7bb7-7f2d-4957-8dac-6397af9b1645",
   "metadata": {},
   "outputs": [],
   "source": [
    "def df_to_matrix(df: pd.DataFrame) -> np.ndarray:\n",
    "\n",
    "    result = df.pivot(index = 'user_id', columns = 'item_id', values ='rating').fillna(0).to_numpy()\n",
    "\n",
    "    return result #shape ~ [n_users, n_items]"
   ]
  },
  {
   "cell_type": "code",
   "execution_count": 34,
   "id": "55362cbb-5e2d-455b-afd1-8507f1dd51ba",
   "metadata": {},
   "outputs": [],
   "source": [
    "interactions = df_to_matrix(df_train)"
   ]
  },
  {
   "cell_type": "code",
   "execution_count": 36,
   "id": "794b646d-a560-42dd-a466-87cad2589271",
   "metadata": {},
   "outputs": [],
   "source": [
    "from scipy.sparse import coo_array\n",
    "\n",
    "def df_to_coo(df: pd.DataFrame) -> coo_array:\n",
    "\n",
    "    n_u, n_i = df.user_id.nunique(), df.item_id.nunique()\n",
    "    \n",
    "    result = coo_array((df.rating, (df.user_id, df.item_id)), \n",
    "                       shape=(n_u, n_i), dtype=np.float64)\n",
    "    \n",
    "    return result # coo_array"
   ]
  },
  {
   "cell_type": "code",
   "execution_count": 38,
   "id": "30f9c218-0419-41b2-a112-c2214fad1d99",
   "metadata": {},
   "outputs": [],
   "source": [
    "coo_interactions = df_to_coo(df_train)"
   ]
  },
  {
   "cell_type": "code",
   "execution_count": 40,
   "id": "96b57a7a-0551-4f75-8047-fb9904ac93df",
   "metadata": {},
   "outputs": [],
   "source": [
    "assert (interactions != 0).sum() == df_train.shape[0]\n",
    "assert interactions[0, 2994] == 3\n",
    "assert interactions[2369, 1203] == 5\n",
    "assert interactions[1557, 459] == 3\n",
    "assert np.allclose(coo_interactions.toarray(), interactions)"
   ]
  },
  {
   "cell_type": "markdown",
   "id": "93b3862a-e62a-4ebe-a70c-29102e9f99fd",
   "metadata": {},
   "source": [
    "### Задание 2.1.\n",
    "**Рассмотрим [SVD](https://en.wikipedia.org/wiki/Singular_value_decomposition). Возьмите готовую реализуцию алгоритма из numpy.linalg или из scipy.linalg и примените алгоритм к матрицам интеракций, полученным в первом задании. Для работы со sparse матрицей обычная реализация svd не подойдет и нужно будет воспользоваться scipy.sparse.linalg.svds. Вам нужно разложить матрицу интеракций на 3 матрицы U, S, V, а затем перемножить их и восстановить изначальную матрицу. При полном разложении исходная матрица должна восстанавливаться максимально хорошо**"
   ]
  },
  {
   "cell_type": "code",
   "execution_count": 43,
   "id": "eead134a-9aac-4027-b0b8-592de614c3d0",
   "metadata": {},
   "outputs": [],
   "source": [
    "from numpy.linalg import svd\n",
    "from scipy.sparse.linalg import svds\n",
    "\n",
    "def make_svd(interractions: Union[np.ndarray, coo_array], n_singular_values: int = -1):\n",
    "    # функция должна работать и для полной матрицы и для sparse матрицы(вам поможет isinstance).\n",
    "    # если n_singular_values = -1, то берем все сингулярные числа для полной матрицы\n",
    "    # и все кроме одного сингулярного числа для coo-матрицы(иначе scipy.sparse.linalg.svds не будет работать)\n",
    "    \n",
    "    if isinstance(interractions, np.ndarray):\n",
    "        if n_singular_values == -1:  \n",
    "            U, s, V = svd(interactions)\n",
    "            S = np.zeros(interactions.shape)\n",
    "            S[:len(s), :len(s)] = np.diag(s)\n",
    "            \n",
    "        else:  \n",
    "            U, s, V = svd(interractions)\n",
    "            k = n_singular_values\n",
    "            U, s, V = U[:, :k], s[:k], V[:k, :]\n",
    "            S = np.zeros((k, k))\n",
    "            S[:len(s), :len(s)] = np.diag(s)\n",
    "            \n",
    "    else:  \n",
    "        k = min(interractions.shape) - 1 if n_singular_values == -1 else n_singular_values\n",
    "        U, s, V = svds(interractions, k=k)\n",
    "        S = np.zeros((k, k))\n",
    "        S[:len(s), :len(s)] = np.diag(s)\n",
    "\n",
    "    return U, S, V"
   ]
  },
  {
   "cell_type": "code",
   "execution_count": 45,
   "id": "5c5fecd4-4739-4f6b-9c9c-44bde8b66a34",
   "metadata": {},
   "outputs": [],
   "source": [
    "U, S, V = make_svd(interactions)\n",
    "assert np.allclose(U @ S @ V, interactions)"
   ]
  },
  {
   "cell_type": "code",
   "execution_count": 46,
   "id": "c5a5f59e-3832-4a7d-95b4-856531582bbd",
   "metadata": {},
   "outputs": [],
   "source": [
    "U1, S1, V1 = make_svd(interactions, 10)\n",
    "U, S, V = make_svd(coo_interactions, 10)\n",
    "assert np.allclose(U1 @ S1 @ V1, U @ S @ V)"
   ]
  },
  {
   "cell_type": "markdown",
   "id": "9443daa6-e9f1-414a-8107-5a3016452929",
   "metadata": {},
   "source": [
    "### Задание 2.2.\n",
    "**Теперь попробуем сделать рекомендации с помощью SVD. Мы научились восстанавливать исходную матрицу с помощью разложения, теперь же мы хотим порекомендовать пользователю айтемы, которые будут для него максимально релевантны(в восстановленной матрице у них будет самый высокий скор). Для каждого пользователя нужно будет найти индексы айтемов, которые имеют максимальный скор. При этом стоит обратить внимание, что мы не хотим рекомендовать пользователю айтемы, с которыми он уже взаимодействовал**"
   ]
  },
  {
   "cell_type": "code",
   "execution_count": 48,
   "id": "60b4f294-630a-4458-a7e3-f3da327b69b9",
   "metadata": {},
   "outputs": [],
   "source": [
    "def top_k_recs_one(user_row, preds_row, k=20):\n",
    "    df = pd.DataFrame(data=zip(user_row, preds_row), columns=['init', 'preds'])\n",
    "    df = df.sort_values(by='init', ascending=False)\n",
    "    df['preds'] = df['preds'].astype('float32')\n",
    "    return df.sort_values(by='preds', ascending=False)[df.init == 0].head(k).index.values"
   ]
  },
  {
   "cell_type": "code",
   "execution_count": 49,
   "id": "787da18f-48d0-4dfa-b18f-b7e97cc98a4f",
   "metadata": {},
   "outputs": [],
   "source": [
    "def make_svd_recommendations(interractions: Union[np.ndarray, coo_array], n_singular_values: int = -1, top_k: int = 100):\n",
    "    # Возвращает матрицу вида n_users, top_k, то есть для каждого пользователя возвращаем индексы \n",
    "    # top_k самых релевантный айтемов среди тех с которыми он еще не взаимодействовал\n",
    "    k = top_k\n",
    "    \n",
    "    U, S, V = make_svd(interractions, n_singular_values)\n",
    "    preds = U @ S @ V\n",
    "    \n",
    "    if isinstance(interractions, coo_array):\n",
    "        interractions = interractions.toarray()\n",
    "    \n",
    "    \n",
    "    recommendations = np.array([top_k_recs_one(interractions[i,:], preds[i, :], top_k) for i in range(interractions.shape[0])])\n",
    "\n",
    "    return recommendations #shape ~ [n_users, top_k]"
   ]
  },
  {
   "cell_type": "code",
   "execution_count": 50,
   "id": "ec72f3dd-c8f2-4434-b84e-ef016c4773a1",
   "metadata": {},
   "outputs": [],
   "source": [
    "recs = make_svd_recommendations(interactions, -1, 100)\n",
    "assert recs.shape == (interactions.shape[0], 100)"
   ]
  },
  {
   "cell_type": "markdown",
   "id": "f5d0b788-855a-4fd9-8cbb-38c0dd289ef5",
   "metadata": {},
   "source": [
    "### Задание 2.3. \n",
    "**Теперь давайте посмотрим как будет зависеть качетво рекомендаций, от количества сингулярных чисел, которые мы возьмем в SVD разложении. Переберите n_singular_values из списка [1, 10, 50, 200, 1000] и посмотрите как будет изменяться метрика NDCG на тестовом датасете для таких рекомендаций и как будет меняться время вычисления. Для каждого графики зависимости метрики NDCG от n_singular_values и времени работы алгоритма от n_singular_values(Время работы будет меняться только для sparse-матрицы, стоит запускать алгоритм именно для нее)**"
   ]
  },
  {
   "cell_type": "code",
   "execution_count": 52,
   "id": "20271c17-0081-4c42-9a61-37830905c09b",
   "metadata": {},
   "outputs": [],
   "source": [
    "def ndcg_metric(gt_items, predicted):\n",
    "    \n",
    "    at = len(predicted)\n",
    "    relevance = np.array([1 if x in predicted else 0 for x in gt_items])\n",
    "    # DCG uses the relevance of the recommended items\n",
    "    rank_dcg = dcg(relevance)\n",
    "\n",
    "    if rank_dcg == 0.0:\n",
    "        return 0.0\n",
    "\n",
    "    # IDCG has all relevances to 1 (or the values provided), up to the number of items in the test set that can fit in the list length\n",
    "    ideal_dcg = dcg(np.sort(relevance)[::-1][:at])\n",
    "\n",
    "    if ideal_dcg == 0.0:\n",
    "        return 0.0\n",
    "\n",
    "    ndcg_ = rank_dcg / ideal_dcg\n",
    "\n",
    "    return ndcg_\n",
    "\n",
    "\n",
    "def dcg(scores):\n",
    "    return np.sum(np.divide(np.power(2, scores) - 1, np.log2(np.arange(scores.shape[0], dtype=np.float64) + 2)),\n",
    "                  dtype=np.float64)"
   ]
  },
  {
   "cell_type": "code",
   "execution_count": 53,
   "id": "06f931fd-0eb0-4965-9e02-e005ed545c71",
   "metadata": {},
   "outputs": [],
   "source": [
    "def plot_graphs(interactions, df_test = df_test, top_k=100):\n",
    "\n",
    "    ndcg_scores = []\n",
    "    times = []\n",
    "    n_singular_values_list =[1, 10, 50, 100, 200, 500, 750, 1000]\n",
    "    \n",
    "    gt_dict = df_test.groupby(\"user_id\")[\"item_id\"].apply(set).to_dict()\n",
    "    \n",
    "    for n_singular_values in n_singular_values_list:\n",
    "        start_time = time()\n",
    "\n",
    "        recs = make_svd_recommendations(interractions = interactions, n_singular_values = n_singular_values, top_k = top_k)\n",
    "        ndcg_scores_list = []\n",
    "        for user_id in gt_dict.keys():\n",
    "            if user_id in gt_dict:\n",
    "                gt_items = gt_dict[user_id]  # Истинные item_id\n",
    "                ndcg = ndcg_metric(gt_items, recs[user_id, :])  # Вычисляем NDCG\n",
    "                ndcg_scores_list.append(ndcg)\n",
    "        \n",
    "        avg_ndcg = np.mean(ndcg_scores_list)\n",
    "        ndcg_scores.append(avg_ndcg)\n",
    "        \n",
    "        # Засекаем время выполнения\n",
    "        elapsed_time = time() - start_time\n",
    "        times.append(elapsed_time)\n",
    "    \n",
    "    fig, axes = plt.subplots(1, 2, figsize=(18, 7))\n",
    "    sns.lineplot(x = n_singular_values_list, y = ndcg_scores, ax=axes[0], color = 'powderblue')\n",
    "    sns.lineplot(x = n_singular_values_list, y = times, ax=axes[1], color = 'crimson')\n",
    "    sns.scatterplot(x=n_singular_values_list, y=ndcg_scores, ax=axes[0], color='powderblue', s=25, edgecolor=\"gray\")\n",
    "    sns.scatterplot(x=n_singular_values_list, y=times, ax=axes[1], color='crimson', s=25, edgecolor=\"gray\")\n",
    "    axes[0].set_xlabel(\"Amount of singular values\")\n",
    "    axes[1].set_xlabel(\"Amount of singular values\")\n",
    "    axes[0].set_ylabel(\"Mean NDCG values\")\n",
    "    axes[1].set_ylabel(\"Amount of time for execution in seconds\")\n",
    "    plt.show()\n"
   ]
  },
  {
   "cell_type": "code",
   "execution_count": 54,
   "id": "ee22fe02-b1c2-4fb5-a7b1-0525356fe9f0",
   "metadata": {},
   "outputs": [
    {
     "data": {
      "image/png": "[encoded data removed]",
      "text/plain": [
       "<Figure size 1800x700 with 2 Axes>"
      ]
     },
     "metadata": {},
     "output_type": "display_data"
    }
   ],
   "source": [
    "plot_graphs(coo_interactions)"
   ]
  },
  {
   "cell_type": "markdown",
   "id": "a8612d96-c694-42d6-9525-58808f642577",
   "metadata": {},
   "source": [
    "### Задание 3.1.\n",
    "**Перейдем к [ALS](http://yifanhu.net/PUB/cf.pdf). Возьмем реализацию iALS из библиотеки [implicit](https://benfred.github.io/implicit/api/models/cpu/als.html). Обучите ALS на нашем датасете, сделайте top_k рекомендации для юзеров из тестового датасета, и сравните метрики ALS с метриками, которые получились в SVD. Попробуйте перебрать гиперпараметры и найдите оптимальное число факторов, коэффициент alpha и коэффициент регуляризации.**"
   ]
  },
  {
   "cell_type": "code",
   "execution_count": 56,
   "id": "b5fb16e9-49d1-4d7e-a384-ccbdad4f1cdf",
   "metadata": {},
   "outputs": [],
   "source": [
    "from scipy.sparse import csr_matrix\n",
    "from implicit.als import AlternatingLeastSquares\n",
    "\n",
    "def make_als_recommendations(\n",
    "    interractions: Union[np.ndarray, coo_array], \n",
    "    top_k: int = 100, \n",
    "    n_factors: int = 100,\n",
    "    alpha: float = 1.0,\n",
    "    regularization: float = 0.01,\n",
    "):\n",
    "    users_items = csr_matrix(interractions)\n",
    "    als = AlternatingLeastSquares(factors = n_factors,\n",
    "                                  alpha = alpha,\n",
    "                                  regularization = regularization)\n",
    "    als.fit(users_items)\n",
    "    users_ids = np.arange(0, interractions.shape[0])\n",
    "    recs = als.recommend(users_ids, users_items, N=top_k, filter_already_liked_items=True)\n",
    "    recommendations = recs[0]\n",
    "    values = recs[1]\n",
    "    \n",
    "\n",
    "\n",
    "    return recommendations #shape ~ [n_users, top_k]"
   ]
  },
  {
   "cell_type": "code",
   "execution_count": 57,
   "id": "b5573d01-8512-450f-9260-03928ee9b367",
   "metadata": {},
   "outputs": [
    {
     "data": {
      "application/vnd.jupyter.widget-view+json": {
       "model_id": "d8bda0f40f4a4be5b7afede55869d926",
       "version_major": 2,
       "version_minor": 0
      },
      "text/plain": [
       "  0%|          | 0/15 [00:00<?, ?it/s]"
      ]
     },
     "metadata": {},
     "output_type": "display_data"
    }
   ],
   "source": [
    "recs = make_als_recommendations(interactions)\n",
    "assert recs.shape == (interactions.shape[0], 100)"
   ]
  },
  {
   "cell_type": "code",
   "execution_count": 58,
   "id": "1af6420d-4b5d-4d2c-9422-6ce8ed34dbff",
   "metadata": {},
   "outputs": [],
   "source": [
    "def get_mean_ndcg(recs, df):\n",
    "    ndcg_scores_list = []\n",
    "    gt_dict = df.groupby(\"user_id\")[\"item_id\"].apply(set).to_dict()\n",
    "    for user_id in gt_dict.keys():\n",
    "        if user_id in gt_dict:\n",
    "            gt_items = gt_dict[user_id]\n",
    "            ndcg = ndcg_metric(gt_items, recs[user_id, :])\n",
    "            ndcg_scores_list.append(ndcg)\n",
    "\n",
    "    return np.mean(ndcg_scores_list)"
   ]
  },
  {
   "cell_type": "code",
   "execution_count": 59,
   "id": "cab52f97-c266-4b22-b014-3e104bb8e7ca",
   "metadata": {},
   "outputs": [
    {
     "data": {
      "text/plain": [
       "0.5501194953120158"
      ]
     },
     "execution_count": 59,
     "metadata": {},
     "output_type": "execute_result"
    }
   ],
   "source": [
    "get_mean_ndcg(recs, df_test)"
   ]
  },
  {
   "cell_type": "code",
   "execution_count": 61,
   "id": "bed150e1-db5d-4cb4-a579-5d5388d49a7e",
   "metadata": {},
   "outputs": [],
   "source": [
    "def iALS_objective(trial, interractions, df_test):\n",
    "\n",
    "    n_factors = trial.suggest_int('n_factors', 5, 20)  # Регуляризация\n",
    "    alpha = trial.suggest_float('alpha', 1.0, 5.0)\n",
    "    regularization = trial.suggest_float('regularization', 0.001, 0.1)\n",
    "\n",
    "    recs = make_als_recommendations(interractions = interractions,\n",
    "                                   n_factors = n_factors,\n",
    "                                   alpha = alpha,\n",
    "                                   regularization = regularization)\n",
    "\n",
    "    \n",
    "    return get_mean_ndcg(recs, df_test)\n",
    "\n",
    "def optimize_als(interractions, df_test, n_trials=30):\n",
    "\n",
    "    study = optuna.create_study(direction='maximize')\n",
    "    study.optimize(lambda trial: iALS_objective(trial, interractions, df_test), n_trials=n_trials)\n",
    "\n",
    "    print(f'Лучшие гиперпараметры: {study.best_params}')\n",
    "    return study.best_params"
   ]
  },
  {
   "cell_type": "code",
   "execution_count": 63,
   "id": "c086158c-015f-4c7d-8dbc-7ced754cfdba",
   "metadata": {},
   "outputs": [],
   "source": [
    "#best_params = optimize_als(coo_interactions, df_test, n_trials=50)\n",
    "best_params = {'n_factors': 8, 'alpha': 2.6903242100469362, 'regularization': 0.007922643264765536}"
   ]
  },
  {
   "cell_type": "code",
   "execution_count": 65,
   "id": "4756dd00-94e5-40ac-beba-a8903e523ac6",
   "metadata": {},
   "outputs": [
    {
     "data": {
      "application/vnd.jupyter.widget-view+json": {
       "model_id": "03a3359dd0d94203ab730ebff5ab998f",
       "version_major": 2,
       "version_minor": 0
      },
      "text/plain": [
       "  0%|          | 0/15 [00:00<?, ?it/s]"
      ]
     },
     "metadata": {},
     "output_type": "display_data"
    },
    {
     "name": "stdout",
     "output_type": "stream",
     "text": [
      "NDCG for SVD: 0.588782057248703\n",
      "NDCG for iALS: 0.5936122170670675\n"
     ]
    }
   ],
   "source": [
    "recs = make_als_recommendations(**best_params, interractions = coo_interactions)\n",
    "recs2 = make_svd_recommendations(interactions, 10, 100)\n",
    "\n",
    "print(f'NDCG for SVD: {get_mean_ndcg(recs2, df_test)}')\n",
    "print(f'NDCG for iALS: {get_mean_ndcg(recs, df_test)}')"
   ]
  },
  {
   "cell_type": "markdown",
   "id": "81f3b1cc-760b-4d6a-ab8a-aca57b7b6dfe",
   "metadata": {},
   "source": [
    "### Задание 3.2.\n",
    "**Сделайте объяснение рекомендаций для нескольких юзеров(als.explain). Воспользуйтесь файлом movies.dat чтобы перейти от индексов фильмов к их названием**"
   ]
  },
  {
   "cell_type": "code",
   "execution_count": 67,
   "id": "ddd9a956-d2f5-4560-8d0c-c72164ebdfa8",
   "metadata": {},
   "outputs": [
    {
     "data": {
      "application/vnd.jupyter.widget-view+json": {
       "model_id": "076b0d32c63a4866af7605804cf3f1c9",
       "version_major": 2,
       "version_minor": 0
      },
      "text/plain": [
       "  0%|          | 0/15 [00:00<?, ?it/s]"
      ]
     },
     "metadata": {},
     "output_type": "display_data"
    },
    {
     "name": "stdout",
     "output_type": "stream",
     "text": [
      "\n",
      "Объяснение рекомендаций для пользователя 1157\n",
      "\n",
      " Фильм: American Beauty (1999) (ID: 2168)\n",
      "Этот фильм был рекомендован из-за влияния следующих фильмов:\n",
      " - Silence of the Lambs, The (1991) (вес: 0.0610)\n",
      " - Pulp Fiction (1994) (вес: 0.0588)\n",
      " - Babe (1995) (вес: 0.0569)\n",
      " - Fargo (1996) (вес: 0.0569)\n",
      " - Being John Malkovich (1999) (вес: 0.0556)\n",
      " - Usual Suspects, The (1995) (вес: 0.0435)\n",
      " - Princess Bride, The (1987) (вес: 0.0419)\n",
      " - L.A. Confidential (1997) (вес: 0.0418)\n",
      " - Sixth Sense, The (1999) (вес: 0.0364)\n",
      " - 2001: A Space Odyssey (1968) (вес: 0.0309)\n",
      "\n",
      " Фильм: Schindler's List (1993) (ID: 449)\n",
      "Этот фильм был рекомендован из-за влияния следующих фильмов:\n",
      " - Pulp Fiction (1994) (вес: 0.0555)\n",
      " - Silence of the Lambs, The (1991) (вес: 0.0552)\n",
      " - Fargo (1996) (вес: 0.0512)\n",
      " - Babe (1995) (вес: 0.0466)\n",
      " - Usual Suspects, The (1995) (вес: 0.0419)\n",
      " - L.A. Confidential (1997) (вес: 0.0384)\n",
      " - Being John Malkovich (1999) (вес: 0.0339)\n",
      " - Princess Bride, The (1987) (вес: 0.0321)\n",
      " - 2001: A Space Odyssey (1968) (вес: 0.0319)\n",
      " - Sixth Sense, The (1999) (вес: 0.0278)\n",
      "\n",
      "Объяснение рекомендаций для пользователя 3363\n",
      "\n",
      " Фильм: Sixth Sense, The (1999) (ID: 2097)\n",
      "Этот фильм был рекомендован из-за влияния следующих фильмов:\n",
      " - American Beauty (1999) (вес: 0.0530)\n",
      " - Saving Private Ryan (1998) (вес: 0.0456)\n",
      " - Braveheart (1995) (вес: 0.0451)\n",
      " - Star Wars: Episode V - The Empire Strikes Back (1980) (вес: 0.0380)\n",
      " - Raiders of the Lost Ark (1981) (вес: 0.0379)\n",
      " - Bug's Life, A (1998) (вес: 0.0367)\n",
      " - Erin Brockovich (2000) (вес: 0.0358)\n",
      " - Patriot, The (2000) (вес: 0.0355)\n",
      " - Toy Story 2 (1999) (вес: 0.0349)\n",
      " - Princess Bride, The (1987) (вес: 0.0348)\n",
      "\n",
      " Фильм: Silence of the Lambs, The (1991) (ID: 499)\n",
      "Этот фильм был рекомендован из-за влияния следующих фильмов:\n",
      " - Saving Private Ryan (1998) (вес: 0.0491)\n",
      " - American Beauty (1999) (вес: 0.0473)\n",
      " - Braveheart (1995) (вес: 0.0462)\n",
      " - Usual Suspects, The (1995) (вес: 0.0400)\n",
      " - Star Wars: Episode V - The Empire Strikes Back (1980) (вес: 0.0399)\n",
      " - Raiders of the Lost Ark (1981) (вес: 0.0392)\n",
      " - Matrix, The (1999) (вес: 0.0385)\n",
      " - Princess Bride, The (1987) (вес: 0.0338)\n",
      " - Gladiator (2000) (вес: 0.0297)\n",
      " - Amadeus (1984) (вес: 0.0293)\n",
      "\n",
      "Объяснение рекомендаций для пользователя 95\n",
      "\n",
      " Фильм: Hunt for Red October, The (1990) (ID: 1196)\n",
      "Этот фильм был рекомендован из-за влияния следующих фильмов:\n",
      " - Rock, The (1996) (вес: 0.0213)\n",
      " - Dances with Wolves (1990) (вес: 0.0196)\n",
      " - Fugitive, The (1993) (вес: 0.0166)\n",
      " - True Lies (1994) (вес: 0.0161)\n",
      " - Saving Private Ryan (1998) (вес: 0.0158)\n",
      " - Con Air (1997) (вес: 0.0153)\n",
      " - JFK (1991) (вес: 0.0153)\n",
      " - Die Hard (1988) (вес: 0.0151)\n",
      " - Crimson Tide (1995) (вес: 0.0150)\n",
      " - Apollo 13 (1995) (вес: 0.0149)\n",
      "\n",
      " Фильм: Rocky (1976) (ID: 1426)\n",
      "Этот фильм был рекомендован из-за влияния следующих фильмов:\n",
      " - Lethal Weapon (1987) (вес: 0.0159)\n",
      " - Die Hard (1988) (вес: 0.0158)\n",
      " - Kelly's Heroes (1970) (вес: 0.0144)\n",
      " - Indiana Jones and the Last Crusade (1989) (вес: 0.0133)\n",
      " - Full Metal Jacket (1987) (вес: 0.0131)\n",
      " - Longest Day, The (1962) (вес: 0.0125)\n",
      " - Lethal Weapon 2 (1989) (вес: 0.0124)\n",
      " - Driving Miss Daisy (1989) (вес: 0.0123)\n",
      " - Platoon (1986) (вес: 0.0123)\n",
      " - Mad Max (1979) (вес: 0.0123)\n",
      "\n",
      "Объяснение рекомендаций для пользователя 2276\n",
      "\n",
      " Фильм: Babe (1995) (ID: 32)\n",
      "Этот фильм был рекомендован из-за влияния следующих фильмов:\n",
      " - Toy Story (1995) (вес: 0.0309)\n",
      " - Shakespeare in Love (1998) (вес: 0.0301)\n",
      " - Groundhog Day (1993) (вес: 0.0299)\n",
      " - Full Monty, The (1997) (вес: 0.0288)\n",
      " - Being John Malkovich (1999) (вес: 0.0286)\n",
      " - Schindler's List (1993) (вес: 0.0280)\n",
      " - Strictly Ballroom (1992) (вес: 0.0277)\n",
      " - American Beauty (1999) (вес: 0.0264)\n",
      " - Waking Ned Devine (1998) (вес: 0.0258)\n",
      " - Forrest Gump (1994) (вес: 0.0258)\n",
      "\n",
      " Фильм: Sixth Sense, The (1999) (ID: 2097)\n",
      "Этот фильм был рекомендован из-за влияния следующих фильмов:\n",
      " - Being John Malkovich (1999) (вес: 0.0469)\n",
      " - American Beauty (1999) (вес: 0.0466)\n",
      " - Schindler's List (1993) (вес: 0.0451)\n",
      " - Austin Powers: The Spy Who Shagged Me (1999) (вес: 0.0426)\n",
      " - Fargo (1996) (вес: 0.0415)\n",
      " - Godfather, The (1972) (вес: 0.0414)\n",
      " - Shakespeare in Love (1998) (вес: 0.0380)\n",
      " - Silence of the Lambs, The (1991) (вес: 0.0373)\n",
      " - Godfather: Part II, The (1974) (вес: 0.0343)\n",
      " - Shawshank Redemption, The (1994) (вес: 0.0328)\n",
      "\n",
      "Объяснение рекомендаций для пользователя 2544\n",
      "\n",
      " Фильм: Casablanca (1942) (ID: 674)\n",
      "Этот фильм был рекомендован из-за влияния следующих фильмов:\n",
      " - American Beauty (1999) (вес: 0.0422)\n",
      " - Shawshank Redemption, The (1994) (вес: 0.0336)\n",
      " - Schindler's List (1993) (вес: 0.0300)\n",
      " - One Flew Over the Cuckoo's Nest (1975) (вес: 0.0270)\n",
      " - E.T. the Extra-Terrestrial (1982) (вес: 0.0265)\n",
      " - Maltese Falcon, The (1941) (вес: 0.0261)\n",
      " - Fargo (1996) (вес: 0.0261)\n",
      " - Rear Window (1954) (вес: 0.0260)\n",
      " - African Queen, The (1951) (вес: 0.0250)\n",
      " - Citizen Kane (1941) (вес: 0.0248)\n",
      "\n",
      " Фильм: Godfather: Part II, The (1974) (ID: 900)\n",
      "Этот фильм был рекомендован из-за влияния следующих фильмов:\n",
      " - American Beauty (1999) (вес: 0.0403)\n",
      " - Shawshank Redemption, The (1994) (вес: 0.0329)\n",
      " - One Flew Over the Cuckoo's Nest (1975) (вес: 0.0300)\n",
      " - Schindler's List (1993) (вес: 0.0292)\n",
      " - Fargo (1996) (вес: 0.0289)\n",
      " - Chinatown (1974) (вес: 0.0266)\n",
      " - Godfather, The (1972) (вес: 0.0255)\n",
      " - Taxi Driver (1976) (вес: 0.0249)\n",
      " - Apocalypse Now (1979) (вес: 0.0235)\n",
      " - Star Wars: Episode IV - A New Hope (1977) (вес: 0.0229)\n"
     ]
    }
   ],
   "source": [
    "csr_interactions = csr_matrix(coo_interactions)\n",
    "\n",
    "als = AlternatingLeastSquares(factors=8, regularization=0.0079, alpha=2.690)\n",
    "als.fit(csr_interactions)\n",
    "\n",
    "for user_id in np.random.randint(0, 5364, 5):\n",
    "    print(f'\\nОбъяснение рекомендаций для пользователя {user_id}')\n",
    "\n",
    "    recommended_items, _ = als.recommend(user_id, csr_interactions[user_id], N=2)\n",
    "    \n",
    "    for item_id in recommended_items:\n",
    "        explanation = als.explain(user_id, csr_interactions, item_id)\n",
    "        \n",
    "        contrib_items = explanation[1] \n",
    "        \n",
    "        print(f'\\n Фильм: {movies.loc[item_id, 'title']} (ID: {item_id})')\n",
    "        print('Этот фильм был рекомендован из-за влияния следующих фильмов:')\n",
    "\n",
    "        for contrib_id, weight in contrib_items:\n",
    "            print(f\" - {movies.loc[contrib_id, 'title']} (вес: {weight:.4f})\")"
   ]
  },
  {
   "cell_type": "markdown",
   "id": "d7d7ea0c-8288-45f5-83d4-9761a8952669",
   "metadata": {},
   "source": [
    "### Задание 4.\n",
    "**До этого мы работали с рейтингами, но как обсуждалось на лекции, implicit ALS отлично работает и с implicit фидбэком. Давайте попробуем преобразовать наш датасет(трейн и тест) следующим образом**\n",
    "\n",
    "1. Бинаризуем все рейтинги(заменим любую интеракцию пользователя на 1)\n",
    "2. Заменим на 1 только рейтинги 4 и 5, а рейтинг ниже 4 заменим на 0\n",
    "3. Заменим на 1 только рейтинги 4 и 5, а рейтинг ниже 4 заменим на -1\n",
    "4. Заменим на 1 только рейтинги 4 и 5, а рейтинг ниже 4 заменим на -1 и добавим сглаживание по времени. То есть чем дальше была интеракция от максимальной даты трейна, тем с меньшим весом мы будем ее учитывать(например можно интеракции за последний месяц брать в исходном виде, и с каждым месяцем в прошлое умножать их на какой-нибудь коэффициент меньший 1). Таким образом более старые интеракции пользователя будут вносить меньший вклад в его интересы\n",
    "5. Придумайте свой вариант(опционально)\n",
    "\n",
    "Для каждой полученной матрицы обучите iALS и SVD и сравните их результаты между собой(преобразовывать нужно только обучающую выборку, тестовую оставляем неизменной)"
   ]
  },
  {
   "cell_type": "code",
   "execution_count": 69,
   "id": "00ac9225-8ded-45cc-a76f-c7656c1cf69b",
   "metadata": {},
   "outputs": [],
   "source": [
    "def df_to_matrix(df: pd.DataFrame, col: str = 'rating') -> np.ndarray:\n",
    "\n",
    "    result = df.pivot(index = 'user_id', columns = 'item_id', values ='rating').fillna(0).to_numpy()\n",
    "\n",
    "    return result #shape ~ [n_users, n_items]"
   ]
  },
  {
   "cell_type": "code",
   "execution_count": 70,
   "id": "b5719e57-ae1f-4739-8c34-04718237ded2",
   "metadata": {},
   "outputs": [],
   "source": [
    "def df_to_coo(df: pd.DataFrame, col: str = 'rating') -> coo_array:\n",
    "\n",
    "    n_u, n_i = df.user_id.nunique(), df.item_id.nunique()\n",
    "    \n",
    "    result = coo_array((df[col], (df.user_id, df.item_id)), \n",
    "                       shape=(n_u, n_i), dtype=np.float64)\n",
    "    \n",
    "    return result # coo_array"
   ]
  },
  {
   "cell_type": "markdown",
   "id": "c293742d-ab12-4277-8cee-4a96ff6cfa8c",
   "metadata": {},
   "source": [
    "**1.Бинаризуем все рейтинги(заменим любую интеракцию пользователя на 1)**"
   ]
  },
  {
   "cell_type": "code",
   "execution_count": 72,
   "id": "5639cc54-6cc8-4d29-867c-6309e73b7768",
   "metadata": {},
   "outputs": [],
   "source": [
    "df_train['bin_var1'] = np.where(df_train.rating > 0, 1, 0)\n",
    "coo_inter_1 = df_to_coo(df_train, 'bin_var1')"
   ]
  },
  {
   "cell_type": "code",
   "execution_count": 76,
   "id": "02f88fc0-ad24-4385-9482-8e114689b2f6",
   "metadata": {},
   "outputs": [
    {
     "data": {
      "application/vnd.jupyter.widget-view+json": {
       "model_id": "9d50b83df9f54fb387f794dff3069ed8",
       "version_major": 2,
       "version_minor": 0
      },
      "text/plain": [
       "  0%|          | 0/15 [00:00<?, ?it/s]"
      ]
     },
     "metadata": {},
     "output_type": "display_data"
    },
    {
     "name": "stdout",
     "output_type": "stream",
     "text": [
      "NDCG for SVD: 0.5742313395172395\n",
      "NDCG for iALS: 0.5846846187704131\n"
     ]
    }
   ],
   "source": [
    "svd_recs = make_svd_recommendations(coo_inter_1, n_singular_values=10)\n",
    "als_recs = make_als_recommendations(**best_params, interractions = coo_inter_1)\n",
    "\n",
    "print(f'NDCG for SVD: {get_mean_ndcg(svd_recs, df_test)}')\n",
    "print(f'NDCG for iALS: {get_mean_ndcg(als_recs, df_test)}')"
   ]
  },
  {
   "cell_type": "markdown",
   "id": "5a596b27-e9a5-4286-a9d5-92bd5750487f",
   "metadata": {},
   "source": [
    "**2.Заменим на 1 только рейтинги 4 и 5, а рейтинг ниже 4 заменим на 0**"
   ]
  },
  {
   "cell_type": "code",
   "execution_count": 78,
   "id": "253ac605-e3f3-4470-b84b-0e614c3891dc",
   "metadata": {},
   "outputs": [],
   "source": [
    "df_train['bin_var2'] = np.where(df_train.rating >= 4, 1, 0)\n",
    "coo_inter_2 = df_to_coo(df_train, 'bin_var2')"
   ]
  },
  {
   "cell_type": "code",
   "execution_count": 79,
   "id": "80fafbc7-6351-4801-ab14-f47652faad38",
   "metadata": {},
   "outputs": [
    {
     "data": {
      "application/vnd.jupyter.widget-view+json": {
       "model_id": "5f3393878a964e96bffdd96dba93efdd",
       "version_major": 2,
       "version_minor": 0
      },
      "text/plain": [
       "  0%|          | 0/15 [00:00<?, ?it/s]"
      ]
     },
     "metadata": {},
     "output_type": "display_data"
    },
    {
     "name": "stdout",
     "output_type": "stream",
     "text": [
      "NDCG for SVD: 0.5607541689875705\n",
      "NDCG for iALS: 0.5928668417453248\n"
     ]
    }
   ],
   "source": [
    "svd_recs = make_svd_recommendations(coo_inter_2, n_singular_values=10)\n",
    "als_recs = make_als_recommendations(**best_params, interractions = coo_inter_2)\n",
    "\n",
    "print(f'NDCG for SVD: {get_mean_ndcg(svd_recs, df_test)}')\n",
    "print(f'NDCG for iALS: {get_mean_ndcg(als_recs, df_test)}')"
   ]
  },
  {
   "cell_type": "markdown",
   "id": "49d40e43-acc1-4857-bff2-a078017f72d6",
   "metadata": {},
   "source": [
    "**3.Заменим на 1 только рейтинги 4 и 5, а рейтинг ниже 4 заменим на -1**"
   ]
  },
  {
   "cell_type": "code",
   "execution_count": 81,
   "id": "5ea42e71-ce93-4f00-8439-e630b0d6514b",
   "metadata": {},
   "outputs": [],
   "source": [
    "df_train['bin_var3'] = np.where(df_train.rating >= 4, 1, -1)\n",
    "coo_inter_3 = df_to_coo(df_train, 'bin_var3')"
   ]
  },
  {
   "cell_type": "code",
   "execution_count": 82,
   "id": "a3a974f1-ea0a-4374-a21f-e5448ca45c93",
   "metadata": {},
   "outputs": [
    {
     "data": {
      "application/vnd.jupyter.widget-view+json": {
       "model_id": "df00c62f974b4062a2566563afec2049",
       "version_major": 2,
       "version_minor": 0
      },
      "text/plain": [
       "  0%|          | 0/15 [00:00<?, ?it/s]"
      ]
     },
     "metadata": {},
     "output_type": "display_data"
    },
    {
     "name": "stdout",
     "output_type": "stream",
     "text": [
      "NDCG for SVD: 0.5654355014883644\n",
      "NDCG for iALS: 0.589999052720473\n"
     ]
    }
   ],
   "source": [
    "svd_recs = make_svd_recommendations(coo_inter_3, n_singular_values=10)\n",
    "als_recs = make_als_recommendations(**best_params, interractions = coo_inter_3)\n",
    "\n",
    "print(f'NDCG for SVD: {get_mean_ndcg(svd_recs, df_test)}')\n",
    "print(f'NDCG for iALS: {get_mean_ndcg(als_recs, df_test)}')"
   ]
  },
  {
   "cell_type": "markdown",
   "id": "e3d74bc5-a42c-4a15-b4f9-14060b947490",
   "metadata": {},
   "source": [
    "**4.Заменим на 1 только рейтинги 4 и 5, а рейтинг ниже 4 заменим на -1 и добавим сглаживание по времени. То есть чем дальше была интеракция от максимальной даты трейна, тем с меньшим весом мы будем ее учитывать(например можно интеракции за последний месяц брать в исходном виде, и с каждым месяцем в прошлое умножать их на какой-нибудь коэффициент меньший 1). Таким образом более старые интеракции пользователя будут вносить меньший вклад в его интересы**"
   ]
  },
  {
   "cell_type": "code",
   "execution_count": 84,
   "id": "7f8966dd-7fe1-4355-9cda-4c5df5137247",
   "metadata": {},
   "outputs": [],
   "source": [
    "df_train[\"bin_var4\"] = np.where(df_train.rating >= 4, 1, -1)\n",
    "max_date = df_train[\"datetime\"].max()\n",
    "df_train[\"days_diff\"] = (max_date - df_train[\"datetime\"]).dt.days\n",
    "lambda_decay = 0.98\n",
    "df_train[\"time_weight\"] = lambda_decay ** (df_train[\"days_diff\"] / 30)\n",
    "df_train[\"bin_var4\"] = df_train[\"bin_var4\"] * df_train[\"time_weight\"]"
   ]
  },
  {
   "cell_type": "code",
   "execution_count": 85,
   "id": "4c3c8499-e863-4072-b11d-ed7a4236e017",
   "metadata": {},
   "outputs": [],
   "source": [
    "coo_inter_4 = df_to_coo(df_train, 'bin_var4')"
   ]
  },
  {
   "cell_type": "code",
   "execution_count": 86,
   "id": "94154b38-90e5-4832-97d9-00a5bfd05e53",
   "metadata": {},
   "outputs": [
    {
     "data": {
      "application/vnd.jupyter.widget-view+json": {
       "model_id": "39216c597ee64ecf95a28a4b79e69dca",
       "version_major": 2,
       "version_minor": 0
      },
      "text/plain": [
       "  0%|          | 0/15 [00:00<?, ?it/s]"
      ]
     },
     "metadata": {},
     "output_type": "display_data"
    },
    {
     "name": "stdout",
     "output_type": "stream",
     "text": [
      "NDCG for SVD: 0.5666241425606038\n",
      "NDCG for iALS: 0.5924255348970834\n"
     ]
    }
   ],
   "source": [
    "svd_recs = make_svd_recommendations(coo_inter_4, n_singular_values=10)\n",
    "als_recs = make_als_recommendations(**best_params, interractions = coo_inter_4)\n",
    "\n",
    "print(f'NDCG for SVD: {get_mean_ndcg(svd_recs, df_test)}')\n",
    "print(f'NDCG for iALS: {get_mean_ndcg(als_recs, df_test)}')"
   ]
  },
  {
   "cell_type": "markdown",
   "id": "ee7a03b1-5072-4bc4-ba46-1fc3c989b888",
   "metadata": {},
   "source": [
    "### Задание 5.\n",
    "**iALS на numpy/torch. Давайте реализуем алгоритм iALS на нумпае или торче. Требуется реализовать алгорит, описанный в 4 части [статьи](http://yifanhu.net/PUB/cf.pdf). Обратите внимания на все оптимизации, которые они описывают в статье, чтобы сократить лишние вычисления. Hint: метрики у вашего алгоритма должны быть сравнимы с метриками ALS из библиотеки implicit**"
   ]
  },
  {
   "cell_type": "code",
   "execution_count": 88,
   "id": "a9aa65d7-11dc-48d9-a270-8d0a6d96f28e",
   "metadata": {},
   "outputs": [],
   "source": [
    "def linear_weight(R, alpha=40.0):\n",
    "    \n",
    "    R = R.copy().tocsr()\n",
    "    R.data = 1.0 + alpha * R.data\n",
    "    return R\n",
    "\n",
    "class iALS:\n",
    "    def __init__(\n",
    "        self,\n",
    "        n_factors=100,\n",
    "        alpha=1.0,\n",
    "        reg_coef=0.01,\n",
    "        n_iterations=10,\n",
    "        random_state=42\n",
    "    ):\n",
    "\n",
    "        self.n_factors = n_factors\n",
    "        self.alpha = alpha\n",
    "        self.reg_coef = reg_coef\n",
    "        self.n_iterations = n_iterations\n",
    "        self.random_state = random_state\n",
    "\n",
    "        self.user_factors = None\n",
    "        self.item_factors = None\n",
    "        self.user_items = None  # [u] -> array(indices of items)\n",
    "        self.user_cminus1 = None # [u] -> array((C[u,i]-1) values)\n",
    "        self.item_users = None  # [i] -> array(indices of users)\n",
    "        self.item_cminus1 = None # [i] -> array((C[u,i]-1) for those users)\n",
    "\n",
    "    def fit(self, interactions: np.ndarray, n_iterations: int = None):\n",
    "        \n",
    "        if not isinstance(interactions, csr_matrix):\n",
    "            interactions = csr_matrix(interactions)\n",
    "        if n_iterations is not None:\n",
    "            self.n_iterations = n_iterations\n",
    "\n",
    "        rng = np.random.default_rng(self.random_state)\n",
    "\n",
    "        n_users, n_items = interactions.shape\n",
    "\n",
    "        C = linear_weight(interactions, alpha=self.alpha)  # (1 + alpha * R)\n",
    "        p = interactions.copy()\n",
    "        p.data = np.where(p.data > 0, 1.0, 0.0)  # binarized prefs\n",
    "\n",
    "        scale = 0.01\n",
    "        self.user_factors = rng.normal(0, scale, size=(n_users, self.n_factors))\n",
    "        self.item_factors = rng.normal(0, scale, size=(n_items, self.n_factors))\n",
    "\n",
    "        self.user_items = []\n",
    "        self.user_cminus1 = []\n",
    "        for u in range(n_users):\n",
    "            row_start = C.indptr[u]\n",
    "            row_end = C.indptr[u+1]\n",
    "            c_items = C.indices[row_start:row_end]    \n",
    "            c_vals = C.data[row_start:row_end]          \n",
    "            cminus1 = c_vals - 1.0\n",
    "            nonzero_mask = (cminus1 != 0)\n",
    "            self.user_items.append(c_items[nonzero_mask])\n",
    "            self.user_cminus1.append(cminus1[nonzero_mask])\n",
    "\n",
    "        self.item_users = [[] for _ in range(n_items)]\n",
    "        self.item_cminus1 = [[] for _ in range(n_items)]\n",
    "        for u in range(n_users):\n",
    "            Iu = self.user_items[u]\n",
    "            Cu_vals = self.user_cminus1[u]\n",
    "            for i_idx, item_id in enumerate(Iu):\n",
    "                val_cminus1 = Cu_vals[i_idx]\n",
    "                self.item_users[item_id].append(u)\n",
    "                self.item_cminus1[item_id].append(val_cminus1)\n",
    "\n",
    "        for i in range(n_items):\n",
    "            self.item_users[i] = np.array(self.item_users[i], dtype=int)\n",
    "            self.item_cminus1[i] = np.array(self.item_cminus1[i], dtype=float)\n",
    "\n",
    "        regI = self.reg_coef * np.eye(self.n_factors)\n",
    "\n",
    "        for _ in range(self.n_iterations):\n",
    "            Y = self.item_factors\n",
    "            YTY = Y.T @ Y  # (f x f)\n",
    "\n",
    "            for u in range(n_users):\n",
    "                Iu = self.user_items[u]\n",
    "                if len(Iu) == 0:\n",
    "                    self.user_factors[u] = 0\n",
    "                    continue\n",
    "\n",
    "                c_vals = self.user_cminus1[u]   # (C[u,i]-1)\n",
    "                sum_yi = np.zeros(self.n_factors)\n",
    "                sum_yi_yiT = np.zeros((self.n_factors, self.n_factors))\n",
    "\n",
    "                for i, c_minus_1 in zip(Iu, c_vals):\n",
    "                    y_i = Y[i]\n",
    "                    sum_yi += c_minus_1 * y_i\n",
    "                    sum_yi_yiT += c_minus_1 * np.outer(y_i, y_i)\n",
    "\n",
    "                A_u = YTY + sum_yi_yiT + regI\n",
    "                b_u = sum_yi\n",
    "                self.user_factors[u] = np.linalg.solve(A_u, b_u)\n",
    "\n",
    "            X = self.user_factors\n",
    "            XTX = X.T @ X\n",
    "\n",
    "            for i in range(n_items):\n",
    "                Ui = self.item_users[i]\n",
    "                if len(Ui) == 0:\n",
    "                    self.item_factors[i] = 0\n",
    "                    continue\n",
    "\n",
    "                c_vals = self.item_cminus1[i]\n",
    "                sum_xu = np.zeros(self.n_factors)\n",
    "                sum_xu_xuT = np.zeros((self.n_factors, self.n_factors))\n",
    "\n",
    "                for (u, c_minus_1) in zip(Ui, c_vals):\n",
    "                    x_u = X[u]\n",
    "                    sum_xu += c_minus_1 * x_u\n",
    "                    sum_xu_xuT += c_minus_1 * np.outer(x_u, x_u)\n",
    "\n",
    "                A_i = XTX + sum_xu_xuT + regI\n",
    "                b_i = sum_xu\n",
    "                self.item_factors[i] = np.linalg.solve(A_i, b_i)\n",
    "\n",
    "    def predict(self, top_k=100):\n",
    "\n",
    "        X = self.user_factors\n",
    "        Y = self.item_factors\n",
    "        scores = X @ Y.T\n",
    "\n",
    "        n_users, n_items = scores.shape\n",
    "        for u in range(n_users):\n",
    "            Iu = self.user_items[u]\n",
    "            scores[u, Iu] = -np.inf\n",
    "            \n",
    "        top_items = np.argsort(-scores, axis=1)[:, :top_k]\n",
    "        return top_items"
   ]
  },
  {
   "cell_type": "code",
   "execution_count": 89,
   "id": "da53cbae-b410-494c-811b-390e4274390d",
   "metadata": {},
   "outputs": [],
   "source": [
    "new_params = {'n_factors': 8, 'alpha': 2.6903242100469362, 'reg_coef': 0.007922643264765536}"
   ]
  },
  {
   "cell_type": "code",
   "execution_count": 90,
   "id": "2f15ead3-f702-451f-aa02-0a92f2fc899a",
   "metadata": {},
   "outputs": [],
   "source": [
    "my_als = iALS(**new_params)\n",
    "my_als.fit(csr_matrix(coo_interactions))\n",
    "my_als_recs = my_als.predict()"
   ]
  },
  {
   "cell_type": "code",
   "execution_count": 91,
   "id": "01365169-d8e0-41be-a313-cc073885cedb",
   "metadata": {},
   "outputs": [
    {
     "data": {
      "text/plain": [
       "0.5919583935074193"
      ]
     },
     "execution_count": 91,
     "metadata": {},
     "output_type": "execute_result"
    }
   ],
   "source": [
    "get_mean_ndcg(my_als_recs, df_test)"
   ]
  }
 ],
 "metadata": {
  "kernelspec": {
   "display_name": "Python 3 (ipykernel)",
   "language": "python",
   "name": "python3"
  },
  "language_info": {
   "codemirror_mode": {
    "name": "ipython",
    "version": 3
   },
   "file_extension": ".py",
   "mimetype": "text/x-python",
   "name": "python",
   "nbconvert_exporter": "python",
   "pygments_lexer": "ipython3",
   "version": "3.12.2"
  }
 },
 "nbformat": 4,
 "nbformat_minor": 5
}
